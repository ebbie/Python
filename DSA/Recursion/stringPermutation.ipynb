{
 "cells": [
  {
   "cell_type": "code",
   "execution_count": 26,
   "metadata": {},
   "outputs": [],
   "source": [
    "# Solution 1 - This is a bonus answer. Itertools is a module in python\n",
    "import itertools\n",
    "from itertools import permutations\n",
    "def permute1(s):\n",
    "    \n",
    "    print(list(map(\"\".join, itertools.permutations(s))))"
   ]
  },
  {
   "cell_type": "code",
   "execution_count": 27,
   "metadata": {},
   "outputs": [
    {
     "name": "stdout",
     "output_type": "stream",
     "text": [
      "['abc', 'acb', 'bac', 'bca', 'cab', 'cba']\n"
     ]
    }
   ],
   "source": [
    "permute1(\"abc\")"
   ]
  },
  {
   "cell_type": "code",
   "execution_count": 40,
   "metadata": {},
   "outputs": [],
   "source": [
    "#SOlution 2 - THis is the actual answer\n",
    "\n",
    "def permute(s):\n",
    "    \n",
    "    out = []\n",
    "    \n",
    "    # Base Case\n",
    "    if len(s) == 1:\n",
    "        out = [s]\n",
    "    else:\n",
    "        \n",
    "        #for every letter in string\n",
    "        \n",
    "        for i,let in enumerate(s):\n",
    "            \n",
    "            # for every permutation resulting from step 2 and 3\n",
    "            \n",
    "            for perm in permute( s[:i] + s[i+1:]):\n",
    "                \n",
    "                print(\"Current letter is: \", let)\n",
    "                print(\"Perm is\", perm)\n",
    "                out += [let+perm]\n",
    "                print(out)\n",
    "                print(\"\\n\")\n",
    "    return out"
   ]
  },
  {
   "cell_type": "code",
   "execution_count": 41,
   "metadata": {},
   "outputs": [
    {
     "name": "stdout",
     "output_type": "stream",
     "text": [
      "Current letter is:  b\n",
      "Perm is c\n",
      "['bc']\n",
      "\n",
      "\n",
      "Current letter is:  c\n",
      "Perm is b\n",
      "['bc', 'cb']\n",
      "\n",
      "\n",
      "Current letter is:  a\n",
      "Perm is bc\n",
      "['abc']\n",
      "\n",
      "\n",
      "Current letter is:  a\n",
      "Perm is cb\n",
      "['abc', 'acb']\n",
      "\n",
      "\n",
      "Current letter is:  a\n",
      "Perm is c\n",
      "['ac']\n",
      "\n",
      "\n",
      "Current letter is:  c\n",
      "Perm is a\n",
      "['ac', 'ca']\n",
      "\n",
      "\n",
      "Current letter is:  b\n",
      "Perm is ac\n",
      "['abc', 'acb', 'bac']\n",
      "\n",
      "\n",
      "Current letter is:  b\n",
      "Perm is ca\n",
      "['abc', 'acb', 'bac', 'bca']\n",
      "\n",
      "\n",
      "Current letter is:  a\n",
      "Perm is b\n",
      "['ab']\n",
      "\n",
      "\n",
      "Current letter is:  b\n",
      "Perm is a\n",
      "['ab', 'ba']\n",
      "\n",
      "\n",
      "Current letter is:  c\n",
      "Perm is ab\n",
      "['abc', 'acb', 'bac', 'bca', 'cab']\n",
      "\n",
      "\n",
      "Current letter is:  c\n",
      "Perm is ba\n",
      "['abc', 'acb', 'bac', 'bca', 'cab', 'cba']\n",
      "\n",
      "\n"
     ]
    },
    {
     "data": {
      "text/plain": [
       "['abc', 'acb', 'bac', 'bca', 'cab', 'cba']"
      ]
     },
     "execution_count": 41,
     "metadata": {},
     "output_type": "execute_result"
    }
   ],
   "source": [
    "permute('abc')"
   ]
  },
  {
   "cell_type": "code",
   "execution_count": null,
   "metadata": {},
   "outputs": [],
   "source": []
  }
 ],
 "metadata": {
  "kernelspec": {
   "display_name": "Python 3",
   "language": "python",
   "name": "python3"
  },
  "language_info": {
   "codemirror_mode": {
    "name": "ipython",
    "version": 3
   },
   "file_extension": ".py",
   "mimetype": "text/x-python",
   "name": "python",
   "nbconvert_exporter": "python",
   "pygments_lexer": "ipython3",
   "version": "3.7.6"
  }
 },
 "nbformat": 4,
 "nbformat_minor": 4
}
