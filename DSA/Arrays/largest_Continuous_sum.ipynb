{
 "cells": [
  {
   "cell_type": "code",
   "execution_count": null,
   "metadata": {},
   "outputs": [],
   "source": [
    "def large_cont_sum(arr):\n",
    "    \n",
    "    if len(arr)==0:\n",
    "        return 0\n",
    "    \n",
    "    max_sum = current_sum = arr[0]\n",
    "    \n",
    "    for num in arr[1:]:\n",
    "        \n",
    "        current_sum = max(cuurent_sum+num,num)\n"
   ]
  }
 ],
 "metadata": {
  "kernelspec": {
   "display_name": "Python 3",
   "language": "python",
   "name": "python3"
  },
  "language_info": {
   "codemirror_mode": {
    "name": "ipython",
    "version": 3
   },
   "file_extension": ".py",
   "mimetype": "text/x-python",
   "name": "python",
   "nbconvert_exporter": "python",
   "pygments_lexer": "ipython3",
   "version": "3.7.6"
  }
 },
 "nbformat": 4,
 "nbformat_minor": 4
}
