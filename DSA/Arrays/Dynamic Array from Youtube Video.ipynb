{
 "cells": [
  {
   "cell_type": "markdown",
   "metadata": {},
   "source": [
    "Dynamic Array Implementation\n",
    "\n",
    "Features to be IMplemeneted\n",
    "\n",
    "1. Length of Array\n",
    "2. Printing of Array\n",
    "3. Fetching item with index\n",
    "4. Appending new item\n",
    "5. Inserting at specific position\n",
    "6. Delelting at index\n",
    "7. Deleting by value\n",
    "8. Pop\n",
    "9. Clear\n",
    "10. Searching an item\n",
    "\n",
    "This is the link for this example\n",
    "https://www.youtube.com/watch?v=J7UGfd8nk5Y&list=PLKnIA16_RmvbDgzP-uwvvaIDxIWOvLvIR&index=1"
   ]
  },
  {
   "cell_type": "code",
   "execution_count": 298,
   "metadata": {},
   "outputs": [],
   "source": [
    "import ctypes\n",
    "\n",
    "class Mylist:\n",
    "    \n",
    "    def __init__(self):\n",
    "        \n",
    "        self.n =0\n",
    "        self.size=1\n",
    "        self.A=self._make_array(self.size)\n",
    "        \n",
    "    def __len__(self):\n",
    "        \n",
    "        # len(obj)\n",
    "        return self.n\n",
    "    \n",
    "    \n",
    "    def __str__(self):\n",
    "        \n",
    "        temp=\"\"\n",
    "        \n",
    "        for i in range(self.n):\n",
    "            \n",
    "            temp=temp + str(self.A[i]) + \",\"\n",
    "            \n",
    "        temp=temp[:-1]\n",
    "            \n",
    "        return \"[\" + temp + \"]\"\n",
    "        \n",
    "    def __getitem__(self, index):\n",
    "        \n",
    "        if 0<index<=self.n:\n",
    "            return self.A[index]\n",
    "        else:\n",
    "            return \"IndexError\"\n",
    "     \n",
    "    # this function deletes by index\n",
    "    def __delitem__(self, index):\n",
    "        \n",
    "        if 0<=index<self.n:\n",
    "            \n",
    "            #delete\n",
    "            for i in range(index, self.n-1):\n",
    "                \n",
    "                self.A[i]=self.A[i+1]\n",
    "            \n",
    "            self.n-=1\n",
    "                \n",
    "        else:\n",
    "            \n",
    "            return \"indexError\"\n",
    "    \n",
    "    #This function deletes by value    \n",
    "    def remove(self, value):\n",
    "        \n",
    "        flag=0\n",
    "        \n",
    "        for i in range(self.n):\n",
    "            \n",
    "            if self.A[i] == value:\n",
    "                \n",
    "                flag=1\n",
    "                \n",
    "                for j in range(i, self.n-1):\n",
    "                    self.A[j]=self.A[j+1]\n",
    "                \n",
    "                self.n-=1\n",
    "                \n",
    "                break\n",
    "                \n",
    "        if flag ==0:\n",
    "            print(\"Value not found\")\n",
    "    \n",
    "    def pop(self):\n",
    "        \n",
    "        self.n -=1\n",
    "        \n",
    "    def clear(self):\n",
    "        \n",
    "        self.n=0\n",
    "        self.size=1\n",
    "        \n",
    "    def find(self, item):\n",
    "        \n",
    "        flag=0\n",
    "        for i in range(self.n):\n",
    "            \n",
    "            if self.A[i]==item:\n",
    "                flag=1\n",
    "                break\n",
    "            \n",
    "        if flag ==1:\n",
    "            return i\n",
    "        else:\n",
    "            return -1\n",
    "            \n",
    "\n",
    "    def append(self, item):\n",
    "        \n",
    "        if self.n == self.size:\n",
    "            \n",
    "            self._resize(2*self.size)\n",
    "            \n",
    "        self.A[self.n]=item\n",
    "        self.n +=1\n",
    "    \n",
    "    def insert(self, index, value):\n",
    "        \n",
    "        if 0<=index<=self.n:\n",
    "            \n",
    "            # Do the insertion\n",
    "            if self.n == self.size:\n",
    "                self._resize(2*self.size)\n",
    "                \n",
    "            for i in range(self.n-1, index-1, -1):\n",
    "                \n",
    "                self.A[i+1] = self.A[i]\n",
    "            self.A[index]=value\n",
    "            self.n+=1\n",
    "        \n",
    "        else:\n",
    "            \n",
    "            return \"IndexError\"\n",
    "    \n",
    "    def _resize(self, new_capacity):\n",
    "        \n",
    "        B = self._make_array(new_capacity)\n",
    "        self.size = new_capacity\n",
    "        \n",
    "        for i in range(self.n):\n",
    "            B[i]=self.A[i]\n",
    "        \n",
    "        self.A=B       \n",
    "        \n",
    "    def _make_array(self, capacity):\n",
    "        \n",
    "        return (capacity * ctypes.py_object)()"
   ]
  },
  {
   "cell_type": "code",
   "execution_count": 299,
   "metadata": {},
   "outputs": [],
   "source": [
    "arr=Mylist()"
   ]
  },
  {
   "cell_type": "code",
   "execution_count": 300,
   "metadata": {},
   "outputs": [
    {
     "data": {
      "text/plain": [
       "0"
      ]
     },
     "execution_count": 300,
     "metadata": {},
     "output_type": "execute_result"
    }
   ],
   "source": [
    "len(arr)"
   ]
  },
  {
   "cell_type": "code",
   "execution_count": 301,
   "metadata": {},
   "outputs": [],
   "source": [
    "arr.append(100)"
   ]
  },
  {
   "cell_type": "code",
   "execution_count": 302,
   "metadata": {},
   "outputs": [],
   "source": [
    "arr.append(200)"
   ]
  },
  {
   "cell_type": "code",
   "execution_count": 303,
   "metadata": {},
   "outputs": [],
   "source": [
    "arr.append(300)"
   ]
  },
  {
   "cell_type": "code",
   "execution_count": 304,
   "metadata": {},
   "outputs": [
    {
     "data": {
      "text/plain": [
       "3"
      ]
     },
     "execution_count": 304,
     "metadata": {},
     "output_type": "execute_result"
    }
   ],
   "source": [
    "len(arr)"
   ]
  },
  {
   "cell_type": "code",
   "execution_count": 305,
   "metadata": {},
   "outputs": [],
   "source": [
    "arr.append(400)"
   ]
  },
  {
   "cell_type": "code",
   "execution_count": 306,
   "metadata": {},
   "outputs": [],
   "source": [
    "arr.append(500)"
   ]
  },
  {
   "cell_type": "code",
   "execution_count": 307,
   "metadata": {},
   "outputs": [
    {
     "data": {
      "text/plain": [
       "'IndexError'"
      ]
     },
     "execution_count": 307,
     "metadata": {},
     "output_type": "execute_result"
    }
   ],
   "source": [
    "arr[0]"
   ]
  },
  {
   "cell_type": "code",
   "execution_count": 308,
   "metadata": {},
   "outputs": [
    {
     "data": {
      "text/plain": [
       "200"
      ]
     },
     "execution_count": 308,
     "metadata": {},
     "output_type": "execute_result"
    }
   ],
   "source": [
    "arr[1]"
   ]
  },
  {
   "cell_type": "code",
   "execution_count": 309,
   "metadata": {},
   "outputs": [
    {
     "data": {
      "text/plain": [
       "5"
      ]
     },
     "execution_count": 309,
     "metadata": {},
     "output_type": "execute_result"
    }
   ],
   "source": [
    "len(arr)"
   ]
  },
  {
   "cell_type": "code",
   "execution_count": 310,
   "metadata": {},
   "outputs": [
    {
     "data": {
      "text/plain": [
       "5"
      ]
     },
     "execution_count": 310,
     "metadata": {},
     "output_type": "execute_result"
    }
   ],
   "source": [
    "len(arr)"
   ]
  },
  {
   "cell_type": "code",
   "execution_count": 311,
   "metadata": {},
   "outputs": [
    {
     "name": "stdout",
     "output_type": "stream",
     "text": [
      "[100,200,300,400,500]\n"
     ]
    }
   ],
   "source": [
    "print(arr)"
   ]
  },
  {
   "cell_type": "code",
   "execution_count": 312,
   "metadata": {},
   "outputs": [
    {
     "data": {
      "text/plain": [
       "400"
      ]
     },
     "execution_count": 312,
     "metadata": {},
     "output_type": "execute_result"
    }
   ],
   "source": [
    "arr[3]"
   ]
  },
  {
   "cell_type": "code",
   "execution_count": 313,
   "metadata": {},
   "outputs": [
    {
     "data": {
      "text/plain": [
       "'IndexError'"
      ]
     },
     "execution_count": 313,
     "metadata": {},
     "output_type": "execute_result"
    }
   ],
   "source": [
    "arr[0]"
   ]
  },
  {
   "cell_type": "code",
   "execution_count": 314,
   "metadata": {},
   "outputs": [],
   "source": [
    "arr.insert(3,700)"
   ]
  },
  {
   "cell_type": "code",
   "execution_count": 315,
   "metadata": {},
   "outputs": [
    {
     "name": "stdout",
     "output_type": "stream",
     "text": [
      "[100,200,300,700,400,500]\n"
     ]
    }
   ],
   "source": [
    "print(arr)"
   ]
  },
  {
   "cell_type": "code",
   "execution_count": 316,
   "metadata": {},
   "outputs": [],
   "source": [
    "arr.insert(5,550)"
   ]
  },
  {
   "cell_type": "code",
   "execution_count": 317,
   "metadata": {},
   "outputs": [
    {
     "name": "stdout",
     "output_type": "stream",
     "text": [
      "[100,200,300,700,400,550,500]\n"
     ]
    }
   ],
   "source": [
    "print(arr)"
   ]
  },
  {
   "cell_type": "code",
   "execution_count": 318,
   "metadata": {},
   "outputs": [],
   "source": [
    "del arr[2]"
   ]
  },
  {
   "cell_type": "code",
   "execution_count": 319,
   "metadata": {},
   "outputs": [
    {
     "name": "stdout",
     "output_type": "stream",
     "text": [
      "[100,200,700,400,550,500]\n"
     ]
    }
   ],
   "source": [
    "print(arr)"
   ]
  },
  {
   "cell_type": "code",
   "execution_count": 320,
   "metadata": {},
   "outputs": [],
   "source": [
    "arr.insert(4,5)"
   ]
  },
  {
   "cell_type": "code",
   "execution_count": 321,
   "metadata": {},
   "outputs": [
    {
     "name": "stdout",
     "output_type": "stream",
     "text": [
      "[100,200,700,400,5,550,500]\n"
     ]
    }
   ],
   "source": [
    "print(arr)"
   ]
  },
  {
   "cell_type": "code",
   "execution_count": 322,
   "metadata": {},
   "outputs": [],
   "source": [
    "del arr[4]"
   ]
  },
  {
   "cell_type": "code",
   "execution_count": 323,
   "metadata": {},
   "outputs": [
    {
     "name": "stdout",
     "output_type": "stream",
     "text": [
      "[100,200,700,400,550,500]\n"
     ]
    }
   ],
   "source": [
    "print(arr)"
   ]
  },
  {
   "cell_type": "code",
   "execution_count": 324,
   "metadata": {},
   "outputs": [],
   "source": [
    "arr.remove(700)"
   ]
  },
  {
   "cell_type": "code",
   "execution_count": 325,
   "metadata": {},
   "outputs": [
    {
     "name": "stdout",
     "output_type": "stream",
     "text": [
      "[100,200,400,550,500]\n"
     ]
    }
   ],
   "source": [
    "print(arr)"
   ]
  },
  {
   "cell_type": "code",
   "execution_count": 326,
   "metadata": {},
   "outputs": [
    {
     "data": {
      "text/plain": [
       "5"
      ]
     },
     "execution_count": 326,
     "metadata": {},
     "output_type": "execute_result"
    }
   ],
   "source": [
    "len(arr)"
   ]
  },
  {
   "cell_type": "code",
   "execution_count": 327,
   "metadata": {},
   "outputs": [
    {
     "name": "stdout",
     "output_type": "stream",
     "text": [
      "Value not found\n"
     ]
    }
   ],
   "source": [
    "arr.remove(9)"
   ]
  },
  {
   "cell_type": "code",
   "execution_count": 328,
   "metadata": {},
   "outputs": [
    {
     "data": {
      "text/plain": [
       "5"
      ]
     },
     "execution_count": 328,
     "metadata": {},
     "output_type": "execute_result"
    }
   ],
   "source": [
    "len(arr)"
   ]
  },
  {
   "cell_type": "code",
   "execution_count": 329,
   "metadata": {},
   "outputs": [],
   "source": [
    "arr.remove(200)"
   ]
  },
  {
   "cell_type": "code",
   "execution_count": 330,
   "metadata": {},
   "outputs": [
    {
     "data": {
      "text/plain": [
       "4"
      ]
     },
     "execution_count": 330,
     "metadata": {},
     "output_type": "execute_result"
    }
   ],
   "source": [
    "len(arr)"
   ]
  },
  {
   "cell_type": "code",
   "execution_count": 331,
   "metadata": {},
   "outputs": [
    {
     "name": "stdout",
     "output_type": "stream",
     "text": [
      "[100,400,550,500]\n"
     ]
    }
   ],
   "source": [
    "print(arr)"
   ]
  },
  {
   "cell_type": "code",
   "execution_count": 291,
   "metadata": {},
   "outputs": [],
   "source": [
    "arr.pop()"
   ]
  },
  {
   "cell_type": "code",
   "execution_count": 292,
   "metadata": {},
   "outputs": [
    {
     "name": "stdout",
     "output_type": "stream",
     "text": [
      "[100,400,550]\n"
     ]
    }
   ],
   "source": [
    "print(arr)"
   ]
  },
  {
   "cell_type": "code",
   "execution_count": 293,
   "metadata": {},
   "outputs": [
    {
     "data": {
      "text/plain": [
       "3"
      ]
     },
     "execution_count": 293,
     "metadata": {},
     "output_type": "execute_result"
    }
   ],
   "source": [
    "len(arr)"
   ]
  },
  {
   "cell_type": "code",
   "execution_count": 294,
   "metadata": {},
   "outputs": [
    {
     "name": "stdout",
     "output_type": "stream",
     "text": [
      "[100,400,550]\n"
     ]
    }
   ],
   "source": [
    "print(arr)"
   ]
  },
  {
   "cell_type": "code",
   "execution_count": 295,
   "metadata": {},
   "outputs": [],
   "source": [
    "arr.clear()"
   ]
  },
  {
   "cell_type": "code",
   "execution_count": 296,
   "metadata": {},
   "outputs": [
    {
     "name": "stdout",
     "output_type": "stream",
     "text": [
      "[]\n"
     ]
    }
   ],
   "source": [
    "print(arr)"
   ]
  },
  {
   "cell_type": "code",
   "execution_count": 332,
   "metadata": {},
   "outputs": [
    {
     "name": "stdout",
     "output_type": "stream",
     "text": [
      "[100,400,550,500]\n"
     ]
    }
   ],
   "source": [
    "print(arr)"
   ]
  },
  {
   "cell_type": "code",
   "execution_count": 333,
   "metadata": {},
   "outputs": [
    {
     "data": {
      "text/plain": [
       "-1"
      ]
     },
     "execution_count": 333,
     "metadata": {},
     "output_type": "execute_result"
    }
   ],
   "source": [
    "arr.find(8)"
   ]
  },
  {
   "cell_type": "code",
   "execution_count": 334,
   "metadata": {},
   "outputs": [
    {
     "data": {
      "text/plain": [
       "3"
      ]
     },
     "execution_count": 334,
     "metadata": {},
     "output_type": "execute_result"
    }
   ],
   "source": [
    "arr.find(500)"
   ]
  },
  {
   "cell_type": "code",
   "execution_count": null,
   "metadata": {},
   "outputs": [],
   "source": []
  }
 ],
 "metadata": {
  "kernelspec": {
   "display_name": "Python 3",
   "language": "python",
   "name": "python3"
  },
  "language_info": {
   "codemirror_mode": {
    "name": "ipython",
    "version": 3
   },
   "file_extension": ".py",
   "mimetype": "text/x-python",
   "name": "python",
   "nbconvert_exporter": "python",
   "pygments_lexer": "ipython3",
   "version": "3.7.6"
  }
 },
 "nbformat": 4,
 "nbformat_minor": 4
}
