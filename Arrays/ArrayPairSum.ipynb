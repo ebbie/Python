{
 "cells": [
  {
   "cell_type": "code",
   "execution_count": 32,
   "metadata": {},
   "outputs": [],
   "source": [
    "def pair_sum(arr,k):\n",
    "    \n",
    "    if len(arr)<2:\n",
    "        return\n",
    "    \n",
    "    # Sets for tracking\n",
    "    seen = set()\n",
    "    output = set()\n",
    "    \n",
    "    for num in arr:\n",
    "        \n",
    "        target = k-num\n",
    "        \n",
    "        if target not in seen:\n",
    "            seen.add(num)\n",
    "            \n",
    "        else:\n",
    "            output.add( (min(num,target), max(num,target)) )\n",
    "        \n",
    "    # return len(output)\n",
    "    z = '\\n'.join(map(str,list(output)))\n",
    "    print(z)"
   ]
  },
  {
   "cell_type": "code",
   "execution_count": 34,
   "metadata": {},
   "outputs": [
    {
     "name": "stdout",
     "output_type": "stream",
     "text": [
      "(3, 12)\n",
      "(5, 10)\n",
      "(7, 8)\n"
     ]
    }
   ],
   "source": [
    "pair_sum([1,3,2,2,3,5,7,8,10,12],15)"
   ]
  },
  {
   "cell_type": "code",
   "execution_count": 27,
   "metadata": {},
   "outputs": [
    {
     "name": "stdout",
     "output_type": "stream",
     "text": [
      "a\n",
      "b\n",
      "c\n"
     ]
    }
   ],
   "source": [
    "text = ('a', 'b', 'c')\n",
    "\n",
    "x = '\\n'.join(text)\n",
    "print(x)"
   ]
  },
  {
   "cell_type": "code",
   "execution_count": null,
   "metadata": {},
   "outputs": [],
   "source": []
  }
 ],
 "metadata": {
  "kernelspec": {
   "display_name": "Python 3",
   "language": "python",
   "name": "python3"
  },
  "language_info": {
   "codemirror_mode": {
    "name": "ipython",
    "version": 3
   },
   "file_extension": ".py",
   "mimetype": "text/x-python",
   "name": "python",
   "nbconvert_exporter": "python",
   "pygments_lexer": "ipython3",
   "version": "3.7.6"
  }
 },
 "nbformat": 4,
 "nbformat_minor": 4
}
